{
 "cells": [
  {
   "cell_type": "markdown",
   "metadata": {},
   "source": [
    "Import libraries"
   ]
  },
  {
   "cell_type": "code",
   "execution_count": 1,
   "metadata": {
    "scrolled": false
   },
   "outputs": [],
   "source": [
    "import torch\n",
    "import cv2\n",
    "%reload_ext autoreload\n",
    "%autoreload 2\n",
    "# this is the main library used (sits on top of PyTorch)\n",
    "from fastai.imports import *\n",
    "from fastai.transforms import *\n",
    "from fastai.conv_learner import *\n",
    "from fastai.model import *\n",
    "from fastai.dataset import *\n",
    "from fastai.sgdr import *\n",
    "from fastai.plots import *\n",
    "from sklearn import metrics"
   ]
  },
  {
   "cell_type": "markdown",
   "metadata": {},
   "source": [
    "Set up data: PATH should lead to the data folder with subfolders train, valid, and test. Train and valid should each have subfolders \"yes\" and \"no\". For this to run, you need something in these \"yes\" and \"no\" folders, though it won't affect the predictions--just put in some images from your test data."
   ]
  },
  {
   "cell_type": "code",
   "execution_count": 29,
   "metadata": {},
   "outputs": [
    {
     "data": {
      "text/plain": [
       "<All keys matched successfully>"
      ]
     },
     "execution_count": 29,
     "metadata": {},
     "output_type": "execute_result"
    }
   ],
   "source": [
    "# where the data is\n",
    "PATH = \"data\\e_generated_noise\"\n",
    "# using resnet architecture\n",
    "arch = resnet34\n",
    "# size of square image in pixels\n",
    "sz = 44\n",
    "# transforms used on training data\n",
    "transforms_up_down = [RandomScale(sz,1.2),RandomRotate(1)]\n",
    "tfms = tfms_from_model(arch,sz,crop_type = CropType.NO,aug_tfms=transforms_up_down)\n",
    "# data: comes from PATH, used tfms on training data, bs of 8 for training data, test data located in test folder\n",
    "data = ImageClassifierData.from_paths(PATH,tfms=tfms,bs=8,test_name='test')\n",
    "# load in pretraine\n",
    "state = torch.load('saved_model.pkl',map_location=torch.device('cpu')) # remove map_location parameter if on GPU\n",
    "learn2 = ConvLearner.pretrained(arch,data,precompute=False)\n",
    "learn2.model.load_state_dict(state)"
   ]
  },
  {
   "cell_type": "code",
   "execution_count": 30,
   "metadata": {},
   "outputs": [],
   "source": [
    "log_preds_test = learn2.predict(is_test=True)\n",
    "preds_test = np.argmax(log_preds_test,axis=1)\n",
    "probs_test = np.exp(log_preds_test[:,1])"
   ]
  },
  {
   "cell_type": "code",
   "execution_count": 31,
   "metadata": {},
   "outputs": [],
   "source": [
    "test_names = np.empty_like(data.test_ds.fnames)\n",
    "for i in range(len(data.test_ds.fnames)):\n",
    "    test_names[i] = data.test_ds.fnames[i]\n",
    "    #temp = data.test_ds.fnames[i]\n",
    "    #matchobj = re.search('.*im.*',temp)\n",
    "    #test_names[i] = matchobj.group()\n",
    "test_df = pd.DataFrame(data = test_names,columns = ['image_number'])\n",
    "test_df['prediction'] = preds_test\n",
    "test_df['probability'] = probs_test"
   ]
  },
  {
   "cell_type": "code",
   "execution_count": 32,
   "metadata": {},
   "outputs": [
    {
     "data": {
      "text/html": [
       "<div>\n",
       "<style scoped>\n",
       "    .dataframe tbody tr th:only-of-type {\n",
       "        vertical-align: middle;\n",
       "    }\n",
       "\n",
       "    .dataframe tbody tr th {\n",
       "        vertical-align: top;\n",
       "    }\n",
       "\n",
       "    .dataframe thead th {\n",
       "        text-align: right;\n",
       "    }\n",
       "</style>\n",
       "<table border=\"1\" class=\"dataframe\">\n",
       "  <thead>\n",
       "    <tr style=\"text-align: right;\">\n",
       "      <th></th>\n",
       "      <th>image_number</th>\n",
       "      <th>prediction</th>\n",
       "      <th>probability</th>\n",
       "    </tr>\n",
       "  </thead>\n",
       "  <tbody>\n",
       "    <tr>\n",
       "      <th>0</th>\n",
       "      <td>test\\img_1.jpg</td>\n",
       "      <td>0</td>\n",
       "      <td>0.000010</td>\n",
       "    </tr>\n",
       "    <tr>\n",
       "      <th>1</th>\n",
       "      <td>test\\img_10.jpg</td>\n",
       "      <td>0</td>\n",
       "      <td>0.000019</td>\n",
       "    </tr>\n",
       "    <tr>\n",
       "      <th>2</th>\n",
       "      <td>test\\img_11.jpg</td>\n",
       "      <td>0</td>\n",
       "      <td>0.000048</td>\n",
       "    </tr>\n",
       "    <tr>\n",
       "      <th>3</th>\n",
       "      <td>test\\img_12.jpg</td>\n",
       "      <td>0</td>\n",
       "      <td>0.000014</td>\n",
       "    </tr>\n",
       "    <tr>\n",
       "      <th>4</th>\n",
       "      <td>test\\img_13.jpg</td>\n",
       "      <td>0</td>\n",
       "      <td>0.000012</td>\n",
       "    </tr>\n",
       "    <tr>\n",
       "      <th>...</th>\n",
       "      <td>...</td>\n",
       "      <td>...</td>\n",
       "      <td>...</td>\n",
       "    </tr>\n",
       "    <tr>\n",
       "      <th>94</th>\n",
       "      <td>test\\img_95.jpg</td>\n",
       "      <td>0</td>\n",
       "      <td>0.000054</td>\n",
       "    </tr>\n",
       "    <tr>\n",
       "      <th>95</th>\n",
       "      <td>test\\img_96.jpg</td>\n",
       "      <td>0</td>\n",
       "      <td>0.000030</td>\n",
       "    </tr>\n",
       "    <tr>\n",
       "      <th>96</th>\n",
       "      <td>test\\img_97.jpg</td>\n",
       "      <td>0</td>\n",
       "      <td>0.000002</td>\n",
       "    </tr>\n",
       "    <tr>\n",
       "      <th>97</th>\n",
       "      <td>test\\img_98.jpg</td>\n",
       "      <td>0</td>\n",
       "      <td>0.000111</td>\n",
       "    </tr>\n",
       "    <tr>\n",
       "      <th>98</th>\n",
       "      <td>test\\img_99.jpg</td>\n",
       "      <td>0</td>\n",
       "      <td>0.000032</td>\n",
       "    </tr>\n",
       "  </tbody>\n",
       "</table>\n",
       "<p>99 rows × 3 columns</p>\n",
       "</div>"
      ],
      "text/plain": [
       "       image_number  prediction  probability\n",
       "0    test\\img_1.jpg           0     0.000010\n",
       "1   test\\img_10.jpg           0     0.000019\n",
       "2   test\\img_11.jpg           0     0.000048\n",
       "3   test\\img_12.jpg           0     0.000014\n",
       "4   test\\img_13.jpg           0     0.000012\n",
       "..              ...         ...          ...\n",
       "94  test\\img_95.jpg           0     0.000054\n",
       "95  test\\img_96.jpg           0     0.000030\n",
       "96  test\\img_97.jpg           0     0.000002\n",
       "97  test\\img_98.jpg           0     0.000111\n",
       "98  test\\img_99.jpg           0     0.000032\n",
       "\n",
       "[99 rows x 3 columns]"
      ]
     },
     "execution_count": 32,
     "metadata": {},
     "output_type": "execute_result"
    }
   ],
   "source": [
    "test_df"
   ]
  },
  {
   "cell_type": "code",
   "execution_count": null,
   "metadata": {},
   "outputs": [],
   "source": []
  }
 ],
 "metadata": {
  "kernelspec": {
   "display_name": "Python 3",
   "language": "python",
   "name": "python3"
  },
  "language_info": {
   "codemirror_mode": {
    "name": "ipython",
    "version": 3
   },
   "file_extension": ".py",
   "mimetype": "text/x-python",
   "name": "python",
   "nbconvert_exporter": "python",
   "pygments_lexer": "ipython3",
   "version": "3.8.5"
  }
 },
 "nbformat": 4,
 "nbformat_minor": 4
}
